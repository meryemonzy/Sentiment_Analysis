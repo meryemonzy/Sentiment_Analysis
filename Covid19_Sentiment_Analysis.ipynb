{
 "cells": [
  {
   "cell_type": "markdown",
   "id": "d5ee43b1",
   "metadata": {},
   "source": [
    "## import modules"
   ]
  },
  {
   "cell_type": "code",
   "execution_count": 2,
   "id": "eea99622",
   "metadata": {},
   "outputs": [
    {
     "ename": "SyntaxError",
     "evalue": "invalid syntax (Temp/ipykernel_3232/3322269462.py, line 2)",
     "output_type": "error",
     "traceback": [
      "\u001b[1;36m  File \u001b[1;32m\"C:\\Users\\user\\AppData\\Local\\Temp/ipykernel_3232/3322269462.py\"\u001b[1;36m, line \u001b[1;32m2\u001b[0m\n\u001b[1;33m    pip install ktrain\u001b[0m\n\u001b[1;37m        ^\u001b[0m\n\u001b[1;31mSyntaxError\u001b[0m\u001b[1;31m:\u001b[0m invalid syntax\n"
     ]
    }
   ],
   "source": [
    "#ktrain a lightweight wrapper library for the Keras deep learning library in Python\n",
    "pip install ktrain"
   ]
  },
  {
   "cell_type": "code",
   "execution_count": 1,
   "id": "d54274b9",
   "metadata": {},
   "outputs": [
    {
     "name": "stderr",
     "output_type": "stream",
     "text": [
      "C:\\Users\\user\\anaconda3\\lib\\site-packages\\scipy\\__init__.py:146: UserWarning: A NumPy version >=1.16.5 and <1.23.0 is required for this version of SciPy (detected version 1.23.5\n",
      "  warnings.warn(f\"A NumPy version >={np_minversion} and <{np_maxversion}\"\n"
     ]
    }
   ],
   "source": [
    "import nltk\n",
    "#nltk.download('vader_lexicon')"
   ]
  },
  {
   "cell_type": "markdown",
   "id": "653ac58e",
   "metadata": {},
   "source": [
    "### textblob for processing textual data"
   ]
  },
  {
   "cell_type": "code",
   "execution_count": 2,
   "id": "8cbcca19",
   "metadata": {},
   "outputs": [
    {
     "name": "stdout",
     "output_type": "stream",
     "text": [
      "Requirement already satisfied: textblob in c:\\users\\user\\anaconda3\\lib\\site-packages (0.17.1)\n",
      "Requirement already satisfied: nltk>=3.1 in c:\\users\\user\\anaconda3\\lib\\site-packages (from textblob) (3.6.5)\n",
      "Requirement already satisfied: click in c:\\users\\user\\anaconda3\\lib\\site-packages (from nltk>=3.1->textblob) (8.0.3)\n",
      "Requirement already satisfied: joblib in c:\\users\\user\\anaconda3\\lib\\site-packages (from nltk>=3.1->textblob) (1.1.0)\n",
      "Requirement already satisfied: regex>=2021.8.3 in c:\\users\\user\\anaconda3\\lib\\site-packages (from nltk>=3.1->textblob) (2021.8.3)\n",
      "Requirement already satisfied: tqdm in c:\\users\\user\\anaconda3\\lib\\site-packages (from nltk>=3.1->textblob) (4.62.3)\n",
      "Requirement already satisfied: colorama in c:\\users\\user\\anaconda3\\lib\\site-packages (from click->nltk>=3.1->textblob) (0.4.4)\n",
      "Note: you may need to restart the kernel to use updated packages.\n"
     ]
    }
   ],
   "source": [
    "pip install textblob"
   ]
  },
  {
   "cell_type": "code",
   "execution_count": 2,
   "id": "48f4d5be",
   "metadata": {},
   "outputs": [],
   "source": [
    "import tensorflow as tf\n",
    "#import tensorflow_datasets as tfds\n",
    "from tensorflow import keras\n",
    "import pandas as pd\n",
    "import numpy as np\n",
    "import matplotlib.pyplot as plt\n",
    "import seaborn as sns\n",
    "import datetime\n",
    "from datetime import date\n",
    "\n",
    "from nltk.sentiment.vader import SentimentIntensityAnalyzer\n",
    "\n",
    "from textblob import TextBlob\n",
    "\n",
    "import ktrain\n",
    "from ktrain import text"
   ]
  },
  {
   "cell_type": "markdown",
   "id": "9a913242",
   "metadata": {},
   "source": [
    "## Read from .csv files"
   ]
  },
  {
   "cell_type": "code",
   "execution_count": 4,
   "id": "e6644769",
   "metadata": {},
   "outputs": [],
   "source": [
    "pd1 = pd.read_csv(\"training.csv\")\n",
    "pd2 = pd.read_csv(\"validation.csv\")\n",
    "data = pd.concat([pd1,pd2])"
   ]
  },
  {
   "cell_type": "code",
   "execution_count": 6,
   "id": "f19308f6",
   "metadata": {},
   "outputs": [
    {
     "data": {
      "text/plain": [
       "(7500, 3)"
      ]
     },
     "execution_count": 6,
     "metadata": {},
     "output_type": "execute_result"
    }
   ],
   "source": [
    "data.shape"
   ]
  },
  {
   "cell_type": "markdown",
   "id": "a91125e5",
   "metadata": {},
   "source": [
    "## Check if data is clean"
   ]
  },
  {
   "cell_type": "code",
   "execution_count": 7,
   "id": "ed350e9a",
   "metadata": {},
   "outputs": [
    {
     "name": "stdout",
     "output_type": "stream",
     "text": [
      "ID        0\n",
      "Tweet     0\n",
      "Labels    0\n",
      "dtype: int64\n",
      "ID       0\n",
      "Tweet    0\n",
      "dtype: int64\n"
     ]
    }
   ],
   "source": [
    "#checking for missing values\n",
    "print(pd1.isnull().sum())\n",
    "print(pd2.isnull().sum())"
   ]
  },
  {
   "cell_type": "code",
   "execution_count": 8,
   "id": "ca0ad8dd",
   "metadata": {},
   "outputs": [
    {
     "name": "stdout",
     "output_type": "stream",
     "text": [
      "0\n",
      "0\n"
     ]
    }
   ],
   "source": [
    "#checking for duplicate rows\n",
    "print(pd1.duplicated().sum())\n",
    "print(pd2.duplicated().sum())"
   ]
  },
  {
   "cell_type": "code",
   "execution_count": 9,
   "id": "6af5c655",
   "metadata": {},
   "outputs": [
    {
     "name": "stdout",
     "output_type": "stream",
     "text": [
      "                ID\n",
      "count  7500.000000\n",
      "mean   3750.500000\n",
      "std    2165.207842\n",
      "min       1.000000\n",
      "25%    1875.750000\n",
      "50%    3750.500000\n",
      "75%    5625.250000\n",
      "max    7500.000000\n"
     ]
    }
   ],
   "source": [
    "#Checking for outliers\n",
    "print(data.describe())"
   ]
  },
  {
   "cell_type": "code",
   "execution_count": 10,
   "id": "03f61c0e",
   "metadata": {},
   "outputs": [
    {
     "name": "stdout",
     "output_type": "stream",
     "text": [
      "ID         int64\n",
      "Tweet     object\n",
      "Labels    object\n",
      "dtype: object\n"
     ]
    }
   ],
   "source": [
    "print(data.dtypes)"
   ]
  },
  {
   "cell_type": "code",
   "execution_count": 11,
   "id": "cf2e2528",
   "metadata": {},
   "outputs": [
    {
     "name": "stdout",
     "output_type": "stream",
     "text": [
      "Index(['ID', 'Tweet', 'Labels'], dtype='object')\n"
     ]
    }
   ],
   "source": [
    "#column labels \n",
    "print(data.keys())"
   ]
  },
  {
   "cell_type": "markdown",
   "id": "c3bdd1d8",
   "metadata": {},
   "source": [
    "### The text data (Corpus) that we will analyse is the column Tweet "
   ]
  },
  {
   "cell_type": "code",
   "execution_count": 12,
   "id": "c81edabe",
   "metadata": {},
   "outputs": [
    {
     "data": {
      "text/plain": [
       "0       NO JOKE I WILL HOP ON A PLANE RN! (Well after ...\n",
       "1       BanMediaHouse whose is responsible for spreadi...\n",
       "2       Im waiting for someone to say to me that all t...\n",
       "3       He is a liar. Proven day night. Time again. Li...\n",
       "4       NEW: U.S. CoronaVirus death toll reaches 4,000...\n",
       "                              ...                        \n",
       "2495    Ease to re-search - Coronavirus started mainly...\n",
       "2496    If J N U is postering in favour of corona clus...\n",
       "2497    Gods word is powerful and I promise that if yo...\n",
       "2498    My mom just made me drink boiled lemon, garlic...\n",
       "2499    Children are calling the coronavirus the longe...\n",
       "Name: Tweet, Length: 7500, dtype: object"
      ]
     },
     "execution_count": 12,
     "metadata": {},
     "output_type": "execute_result"
    }
   ],
   "source": [
    "Corpus = data['Tweet']\n",
    "Corpus"
   ]
  },
  {
   "cell_type": "markdown",
   "id": "bc957c9e",
   "metadata": {},
   "source": [
    "### For the column Labels Labels - the labels of a tweet, indicated by the label index from 0 to 10 :\n",
    "#### Optimistic (0), Thankful (1), Empathetic (2), Pessimistic (3), Anxious (4), Sad (5), Annoyed (6), Denial (7), \n",
    "#### Surprise (8), Official report (9), Joking (10).\n"
   ]
  },
  {
   "cell_type": "markdown",
   "id": "cd63a68c",
   "metadata": {},
   "source": [
    "## Data Cleaning"
   ]
  },
  {
   "cell_type": "code",
   "execution_count": 13,
   "id": "5a5ff9d5",
   "metadata": {},
   "outputs": [
    {
     "data": {
      "text/html": [
       "<div>\n",
       "<style scoped>\n",
       "    .dataframe tbody tr th:only-of-type {\n",
       "        vertical-align: middle;\n",
       "    }\n",
       "\n",
       "    .dataframe tbody tr th {\n",
       "        vertical-align: top;\n",
       "    }\n",
       "\n",
       "    .dataframe thead th {\n",
       "        text-align: right;\n",
       "    }\n",
       "</style>\n",
       "<table border=\"1\" class=\"dataframe\">\n",
       "  <thead>\n",
       "    <tr style=\"text-align: right;\">\n",
       "      <th></th>\n",
       "      <th>ID</th>\n",
       "      <th>Tweet</th>\n",
       "      <th>Labels</th>\n",
       "    </tr>\n",
       "  </thead>\n",
       "  <tbody>\n",
       "    <tr>\n",
       "      <th>0</th>\n",
       "      <td>1</td>\n",
       "      <td>no joke i will hop on a plane rn! (well after ...</td>\n",
       "      <td>0 10</td>\n",
       "    </tr>\n",
       "    <tr>\n",
       "      <th>1</th>\n",
       "      <td>2</td>\n",
       "      <td>banmediahouse whose is responsible for spreadi...</td>\n",
       "      <td>6</td>\n",
       "    </tr>\n",
       "    <tr>\n",
       "      <th>2</th>\n",
       "      <td>3</td>\n",
       "      <td>im waiting for someone to say to me that all t...</td>\n",
       "      <td>3 4</td>\n",
       "    </tr>\n",
       "    <tr>\n",
       "      <th>3</th>\n",
       "      <td>4</td>\n",
       "      <td>he is a liar. proven day night. time again. li...</td>\n",
       "      <td>6</td>\n",
       "    </tr>\n",
       "    <tr>\n",
       "      <th>4</th>\n",
       "      <td>5</td>\n",
       "      <td>new: u.s. coronavirus death toll reaches 4,000...</td>\n",
       "      <td>8</td>\n",
       "    </tr>\n",
       "    <tr>\n",
       "      <th>...</th>\n",
       "      <td>...</td>\n",
       "      <td>...</td>\n",
       "      <td>...</td>\n",
       "    </tr>\n",
       "    <tr>\n",
       "      <th>2495</th>\n",
       "      <td>7496</td>\n",
       "      <td>ease to re-search - coronavirus started mainly...</td>\n",
       "      <td>NaN</td>\n",
       "    </tr>\n",
       "    <tr>\n",
       "      <th>2496</th>\n",
       "      <td>7497</td>\n",
       "      <td>if j n u is postering in favour of corona clus...</td>\n",
       "      <td>NaN</td>\n",
       "    </tr>\n",
       "    <tr>\n",
       "      <th>2497</th>\n",
       "      <td>7498</td>\n",
       "      <td>gods word is powerful and i promise that if yo...</td>\n",
       "      <td>NaN</td>\n",
       "    </tr>\n",
       "    <tr>\n",
       "      <th>2498</th>\n",
       "      <td>7499</td>\n",
       "      <td>my mom just made me drink boiled lemon, garlic...</td>\n",
       "      <td>NaN</td>\n",
       "    </tr>\n",
       "    <tr>\n",
       "      <th>2499</th>\n",
       "      <td>7500</td>\n",
       "      <td>children are calling the coronavirus the longe...</td>\n",
       "      <td>NaN</td>\n",
       "    </tr>\n",
       "  </tbody>\n",
       "</table>\n",
       "<p>7500 rows × 3 columns</p>\n",
       "</div>"
      ],
      "text/plain": [
       "        ID                                              Tweet Labels\n",
       "0        1  no joke i will hop on a plane rn! (well after ...   0 10\n",
       "1        2  banmediahouse whose is responsible for spreadi...      6\n",
       "2        3  im waiting for someone to say to me that all t...    3 4\n",
       "3        4  he is a liar. proven day night. time again. li...      6\n",
       "4        5  new: u.s. coronavirus death toll reaches 4,000...      8\n",
       "...    ...                                                ...    ...\n",
       "2495  7496  ease to re-search - coronavirus started mainly...    NaN\n",
       "2496  7497  if j n u is postering in favour of corona clus...    NaN\n",
       "2497  7498  gods word is powerful and i promise that if yo...    NaN\n",
       "2498  7499  my mom just made me drink boiled lemon, garlic...    NaN\n",
       "2499  7500  children are calling the coronavirus the longe...    NaN\n",
       "\n",
       "[7500 rows x 3 columns]"
      ]
     },
     "execution_count": 13,
     "metadata": {},
     "output_type": "execute_result"
    }
   ],
   "source": [
    "data['Tweet'] = data['Tweet'].str.lower()\n",
    "data"
   ]
  },
  {
   "cell_type": "code",
   "execution_count": 14,
   "id": "508bd3f7",
   "metadata": {},
   "outputs": [
    {
     "name": "stdout",
     "output_type": "stream",
     "text": [
      "^C\n"
     ]
    },
    {
     "name": "stderr",
     "output_type": "stream",
     "text": [
      "[nltk_data] Downloading package stopwords to\n",
      "[nltk_data]     C:\\Users\\user\\AppData\\Roaming\\nltk_data...\n",
      "[nltk_data]   Package stopwords is already up-to-date!\n",
      "[nltk_data] Downloading package punkt to\n",
      "[nltk_data]     C:\\Users\\user\\AppData\\Roaming\\nltk_data...\n",
      "[nltk_data]   Package punkt is already up-to-date!\n"
     ]
    },
    {
     "data": {
      "text/plain": [
       "True"
      ]
     },
     "execution_count": 14,
     "metadata": {},
     "output_type": "execute_result"
    }
   ],
   "source": [
    "!pip install nltk\n",
    "nltk.download('stopwords')\n",
    "nltk.download('punkt')"
   ]
  },
  {
   "cell_type": "code",
   "execution_count": 15,
   "id": "a4ea4ad0",
   "metadata": {},
   "outputs": [],
   "source": [
    "from nltk.corpus import stopwords\n",
    "from nltk.tokenize import word_tokenize\n",
    "\n",
    "stop_words = set(stopwords.words(\"english\"))\n",
    "filtered_corpus = []\n",
    "for doc in Corpus:\n",
    "    words = word_tokenize(doc)\n",
    "    words = [w for w in words if w not in stop_words]\n",
    "    filtered_corpus.append(\" \".join(words))"
   ]
  },
  {
   "cell_type": "code",
   "execution_count": 16,
   "id": "fe147f97",
   "metadata": {},
   "outputs": [],
   "source": [
    "#Defining functions for Cleaning and Normalization of Data\n",
    "import re\n",
    "import string\n",
    "def replace_url(string): # cleaning of URL\n",
    "    text = re.sub(r'http\\S+', 'LINK', string)\n",
    "    return text\n",
    "\n",
    "\n",
    "def replace_email(text):#Cleaning of Email related text\n",
    "    line = re.sub(r'[\\w\\.-]+@[\\w\\.-]+','MAIL',str(text))\n",
    "    return \"\".join(line)"
   ]
  },
  {
   "cell_type": "code",
   "execution_count": 17,
   "id": "ba781076",
   "metadata": {},
   "outputs": [],
   "source": [
    "def remove_duplicates(text):\n",
    "    text = re.sub(r'\\b(\\w+\\s*)\\1{1,}', '\\1', text)\n",
    "    return text"
   ]
  },
  {
   "cell_type": "code",
   "execution_count": 18,
   "id": "c98d800b",
   "metadata": {},
   "outputs": [],
   "source": [
    "import string\n",
    "def remove_punctuations(text):\n",
    "    for punctuation in string.punctuation:\n",
    "        text = text.replace(punctuation, '')\n",
    "    return text"
   ]
  },
  {
   "cell_type": "code",
   "execution_count": 19,
   "id": "df99027d",
   "metadata": {},
   "outputs": [],
   "source": [
    "data[\"Tweet\"] = data['Tweet'].apply(remove_punctuations)"
   ]
  },
  {
   "cell_type": "code",
   "execution_count": 21,
   "id": "d21e7294",
   "metadata": {
    "scrolled": false
   },
   "outputs": [
    {
     "data": {
      "text/plain": [
       "(7500, 3)"
      ]
     },
     "execution_count": 21,
     "metadata": {},
     "output_type": "execute_result"
    }
   ],
   "source": [
    "data.shape"
   ]
  },
  {
   "cell_type": "code",
   "execution_count": 22,
   "id": "1a0a47f4",
   "metadata": {},
   "outputs": [],
   "source": [
    "Labels = data['Labels']"
   ]
  },
  {
   "cell_type": "code",
   "execution_count": 23,
   "id": "898748d7",
   "metadata": {},
   "outputs": [
    {
     "data": {
      "text/plain": [
       "0       0 10\n",
       "1          6\n",
       "2        3 4\n",
       "3          6\n",
       "4          8\n",
       "        ... \n",
       "2495     NaN\n",
       "2496     NaN\n",
       "2497     NaN\n",
       "2498     NaN\n",
       "2499     NaN\n",
       "Name: Labels, Length: 7500, dtype: object"
      ]
     },
     "execution_count": 23,
     "metadata": {},
     "output_type": "execute_result"
    }
   ],
   "source": [
    "Labels"
   ]
  },
  {
   "cell_type": "markdown",
   "id": "43aba101",
   "metadata": {},
   "source": [
    "# Word Embedding "
   ]
  },
  {
   "cell_type": "markdown",
   "id": "af56a685",
   "metadata": {},
   "source": [
    "### Word Embedding is a technique used in natural language processing to represent words in a numerical format, called word vectors. \n",
    "### The goal of word embedding is to capture the meaning of words in a way that is useful for downstream natural language processing tasks, in our case sentiment analysis"
   ]
  },
  {
   "cell_type": "code",
   "execution_count": 24,
   "id": "1401de44",
   "metadata": {},
   "outputs": [],
   "source": [
    "from keras.models import Sequential\n",
    "from keras.layers import Embedding,Bidirectional,Dense,Conv1D,Flatten,LSTM,GlobalMaxPooling1D,Dropout\n",
    "from keras.preprocessing.text import Tokenizer\n",
    "#from keras.preprocessing.sequence import pad_sequences\n",
    "from sklearn.manifold import TSNE"
   ]
  },
  {
   "cell_type": "code",
   "execution_count": 25,
   "id": "b5aca360",
   "metadata": {},
   "outputs": [],
   "source": [
    "embed_num_dims = 50\n",
    "max_seq_len = 1000"
   ]
  },
  {
   "cell_type": "code",
   "execution_count": 26,
   "id": "beb418b6",
   "metadata": {},
   "outputs": [
    {
     "name": "stdout",
     "output_type": "stream",
     "text": [
      "7500\n"
     ]
    }
   ],
   "source": [
    "Corpus[0]\n",
    "print(len(Corpus))"
   ]
  },
  {
   "cell_type": "code",
   "execution_count": 27,
   "id": "237ad292",
   "metadata": {},
   "outputs": [],
   "source": [
    "dict = data['Labels']"
   ]
  },
  {
   "cell_type": "code",
   "execution_count": 29,
   "id": "fbd4dba2",
   "metadata": {},
   "outputs": [],
   "source": [
    "sentences = data['Tweet']\n",
    "sentences\n",
    "tokenizer = Tokenizer(num_words = 5000)\n",
    "tokenizer.fit_on_texts(sentences)\n",
    "sequence = tokenizer.texts_to_sequences(sentences)"
   ]
  },
  {
   "cell_type": "code",
   "execution_count": 30,
   "id": "f995727b",
   "metadata": {},
   "outputs": [
    {
     "name": "stdout",
     "output_type": "stream",
     "text": [
      "12784\n"
     ]
    }
   ],
   "source": [
    "index_of_words = tokenizer.word_index\n",
    "index_of_words\n",
    "print(len(index_of_words))"
   ]
  },
  {
   "cell_type": "code",
   "execution_count": 31,
   "id": "d85a075a",
   "metadata": {},
   "outputs": [],
   "source": [
    "from tensorflow.keras.preprocessing.sequence import pad_sequences"
   ]
  },
  {
   "cell_type": "code",
   "execution_count": 32,
   "id": "73e4508c",
   "metadata": {},
   "outputs": [
    {
     "data": {
      "text/plain": [
       "array([[   0,    0,    0, ...,  106,    8,  232],\n",
       "       [   0,    0,    0, ...,  109,    3,  379],\n",
       "       [   0,    0,    0, ...,   16,   22,   43],\n",
       "       ...,\n",
       "       [   0,    0,    0, ...,   48,  737,    8],\n",
       "       [   0,    0,    0, ...,    2,   19, 1043],\n",
       "       [   0,    0,    0, ..., 1537,   64,  260]])"
      ]
     },
     "execution_count": 32,
     "metadata": {},
     "output_type": "execute_result"
    }
   ],
   "source": [
    "padded_seq = pad_sequences(sequence , maxlen = max_seq_len )\n",
    "padded_seq"
   ]
  },
  {
   "cell_type": "code",
   "execution_count": 33,
   "id": "7492664c",
   "metadata": {},
   "outputs": [],
   "source": [
    "#!pip install sklearn.cross_validation\n",
    "from sklearn.model_selection import train_test_split\n",
    "\n",
    "X_train,X_test,Y_train,Y_test = train_test_split(padded_seq,dict,train_size = 0.7)"
   ]
  },
  {
   "cell_type": "code",
   "execution_count": 34,
   "id": "27b91b7d",
   "metadata": {},
   "outputs": [
    {
     "data": {
      "text/plain": [
       "1253      4 10\n",
       "3632    4 6 10\n",
       "694       6 10\n",
       "2738         2\n",
       "695         10\n",
       "Name: Labels, dtype: object"
      ]
     },
     "execution_count": 34,
     "metadata": {},
     "output_type": "execute_result"
    }
   ],
   "source": [
    "Y_train.head()"
   ]
  },
  {
   "cell_type": "code",
   "execution_count": 35,
   "id": "bca970c7",
   "metadata": {},
   "outputs": [
    {
     "name": "stdout",
     "output_type": "stream",
     "text": [
      "Found 400000 word vectors.\n"
     ]
    }
   ],
   "source": [
    "#pretrained Glove Word Embedding weights\n",
    "import codecs\n",
    "f = codecs.open('glove.6B.50d.txt', encoding='utf-8')\n",
    "#f = open('glove.6B.50d.txt',encoding=\"utf8\")\n",
    "embedd_index = {}\n",
    "for line in f:\n",
    "    val = line.split()\n",
    "    word = val[0]\n",
    "    coff = np.asarray(val[1:],dtype = 'float')\n",
    "    embedd_index[word] = coff\n",
    "\n",
    "f.close()\n",
    "print('Found %s word vectors.' % len(embedd_index))"
   ]
  },
  {
   "cell_type": "code",
   "execution_count": 36,
   "id": "6f94a19b",
   "metadata": {},
   "outputs": [
    {
     "data": {
      "text/plain": [
       "array([ 0.092086,  0.2571  , -0.58693 , -0.37029 ,  1.0828  , -0.55466 ,\n",
       "       -0.78142 ,  0.58696 , -0.58714 ,  0.46318 , -0.11267 ,  0.2606  ,\n",
       "       -0.26928 , -0.072466,  1.247   ,  0.30571 ,  0.56731 ,  0.30509 ,\n",
       "       -0.050312, -0.64443 , -0.54513 ,  0.86429 ,  0.20914 ,  0.56334 ,\n",
       "        1.1228  , -1.0516  , -0.78105 ,  0.29656 ,  0.7261  , -0.61392 ,\n",
       "        2.4225  ,  1.0142  , -0.17753 ,  0.4147  , -0.12966 , -0.47064 ,\n",
       "        0.3807  ,  0.16309 , -0.323   , -0.77899 , -0.42473 , -0.30826 ,\n",
       "       -0.42242 ,  0.055069,  0.38267 ,  0.037415, -0.4302  , -0.39442 ,\n",
       "        0.10511 ,  0.87286 ])"
      ]
     },
     "execution_count": 36,
     "metadata": {},
     "output_type": "execute_result"
    }
   ],
   "source": [
    "embedd_index['happy']"
   ]
  },
  {
   "cell_type": "code",
   "execution_count": 37,
   "id": "a49276f7",
   "metadata": {},
   "outputs": [],
   "source": [
    "embedding_matrix = np.zeros((len(index_of_words) + 1, embed_num_dims))\n",
    "\n",
    "tokens = []\n",
    "labels = []\n",
    "\n",
    "for word,i in index_of_words.items():\n",
    "    temp = embedd_index.get(word)\n",
    "    if temp is not None:\n",
    "        embedding_matrix[i] = temp\n",
    "        \n",
    "#for plotting\n",
    "        tokens.append(embedding_matrix[i])\n",
    "        labels.append(word)"
   ]
  },
  {
   "cell_type": "code",
   "execution_count": 38,
   "id": "01a7c003",
   "metadata": {},
   "outputs": [
    {
     "data": {
      "text/plain": [
       "(12785, 50)"
      ]
     },
     "execution_count": 38,
     "metadata": {},
     "output_type": "execute_result"
    }
   ],
   "source": [
    "embedding_matrix.shape"
   ]
  },
  {
   "cell_type": "markdown",
   "id": "ff05500a",
   "metadata": {},
   "source": [
    "## Sentiment Analysis with different tools"
   ]
  },
  {
   "cell_type": "markdown",
   "id": "fe7c0ceb",
   "metadata": {},
   "source": [
    "### TextBlob Sentiment Analysis"
   ]
  },
  {
   "cell_type": "markdown",
   "id": "f3fcbb6e",
   "metadata": {},
   "source": [
    "##### TextBlob is a Python (2 and 3) library for processing textual data. It provides a simple API for diving into common natural \n",
    "##### language processing (NLP) tasks such as noun phrase extraction, sentiment analysis, classification, translation, and more."
   ]
  },
  {
   "cell_type": "code",
   "execution_count": 39,
   "id": "4da0ef7e",
   "metadata": {},
   "outputs": [],
   "source": [
    "data_TextBlob = data.copy()"
   ]
  },
  {
   "cell_type": "code",
   "execution_count": 40,
   "id": "d4e468e3",
   "metadata": {},
   "outputs": [],
   "source": [
    "def textblob_analysis(news_headline):\n",
    "  analysis = TextBlob(news_headline)\n",
    "  return analysis.sentiment.polarity"
   ]
  },
  {
   "cell_type": "code",
   "execution_count": 42,
   "id": "8ca9fbbd",
   "metadata": {},
   "outputs": [],
   "source": [
    "# Sentiment 'polarity' calculation for tweets\n",
    "data_TextBlob['Compound'] = data_TextBlob['Tweet'].apply(lambda tweet: textblob_analysis(tweet))"
   ]
  },
  {
   "cell_type": "code",
   "execution_count": 43,
   "id": "ba607052",
   "metadata": {},
   "outputs": [
    {
     "data": {
      "text/html": [
       "<div>\n",
       "<style scoped>\n",
       "    .dataframe tbody tr th:only-of-type {\n",
       "        vertical-align: middle;\n",
       "    }\n",
       "\n",
       "    .dataframe tbody tr th {\n",
       "        vertical-align: top;\n",
       "    }\n",
       "\n",
       "    .dataframe thead th {\n",
       "        text-align: right;\n",
       "    }\n",
       "</style>\n",
       "<table border=\"1\" class=\"dataframe\">\n",
       "  <thead>\n",
       "    <tr style=\"text-align: right;\">\n",
       "      <th></th>\n",
       "      <th>ID</th>\n",
       "      <th>Tweet</th>\n",
       "      <th>Labels</th>\n",
       "      <th>Compound</th>\n",
       "    </tr>\n",
       "  </thead>\n",
       "  <tbody>\n",
       "    <tr>\n",
       "      <th>0</th>\n",
       "      <td>1</td>\n",
       "      <td>no joke i will hop on a plane rn well after co...</td>\n",
       "      <td>0 10</td>\n",
       "      <td>0.800000</td>\n",
       "    </tr>\n",
       "    <tr>\n",
       "      <th>1</th>\n",
       "      <td>2</td>\n",
       "      <td>banmediahouse whose is responsible for spreadi...</td>\n",
       "      <td>6</td>\n",
       "      <td>-0.150000</td>\n",
       "    </tr>\n",
       "    <tr>\n",
       "      <th>2</th>\n",
       "      <td>3</td>\n",
       "      <td>im waiting for someone to say to me that all t...</td>\n",
       "      <td>3 4</td>\n",
       "      <td>0.000000</td>\n",
       "    </tr>\n",
       "    <tr>\n",
       "      <th>3</th>\n",
       "      <td>4</td>\n",
       "      <td>he is a liar proven day night time again lies ...</td>\n",
       "      <td>6</td>\n",
       "      <td>0.000000</td>\n",
       "    </tr>\n",
       "    <tr>\n",
       "      <th>4</th>\n",
       "      <td>5</td>\n",
       "      <td>new us coronavirus death toll reaches 4000 aft...</td>\n",
       "      <td>8</td>\n",
       "      <td>0.124242</td>\n",
       "    </tr>\n",
       "  </tbody>\n",
       "</table>\n",
       "</div>"
      ],
      "text/plain": [
       "   ID                                              Tweet Labels  Compound\n",
       "0   1  no joke i will hop on a plane rn well after co...   0 10  0.800000\n",
       "1   2  banmediahouse whose is responsible for spreadi...      6 -0.150000\n",
       "2   3  im waiting for someone to say to me that all t...    3 4  0.000000\n",
       "3   4  he is a liar proven day night time again lies ...      6  0.000000\n",
       "4   5  new us coronavirus death toll reaches 4000 aft...      8  0.124242"
      ]
     },
     "execution_count": 43,
     "metadata": {},
     "output_type": "execute_result"
    }
   ],
   "source": [
    "data_TextBlob.head()"
   ]
  },
  {
   "cell_type": "code",
   "execution_count": 44,
   "id": "c082d3e9",
   "metadata": {},
   "outputs": [],
   "source": [
    "# Label the tweets by the 'Compound' - by Sentiment Polarity values\n",
    "# ( In TextBlob the scale moves between -1 and 1 )\n",
    "def sentiment_declareation(sentiment_value):\n",
    "  if sentiment_value == 0:\n",
    "      return 'neutral'\n",
    "  elif 0 < sentiment_value <= 0.3:\n",
    "      return 'weakly_positive'\n",
    "  elif 0.3 < sentiment_value <= 0.6:\n",
    "      return 'positive'\n",
    "  elif 0.6 < sentiment_value <= 1:\n",
    "      return 'strongly_positive'\n",
    "  elif -0.3 < sentiment_value <= 0:\n",
    "      return 'weakly_negative'\n",
    "  elif -0.6 < sentiment_value <= -0.3:\n",
    "      return 'negative'\n",
    "  elif -1 < sentiment_value <= -0.6:\n",
    "      return 'strongly_negative'"
   ]
  },
  {
   "cell_type": "code",
   "execution_count": 45,
   "id": "ba1cbb88",
   "metadata": {},
   "outputs": [],
   "source": [
    "# Sentiment labels for tweets after the 'Compound'\n",
    "data_TextBlob['Sentiment'] = data_TextBlob['Compound'].apply(lambda value: sentiment_declareation(value))\n",
    "\n",
    "# Set the Sentiment analysis tool name\n",
    "data_TextBlob['Tool'] = 'TextBlob'"
   ]
  },
  {
   "cell_type": "code",
   "execution_count": 46,
   "id": "e3b4aaf2",
   "metadata": {},
   "outputs": [
    {
     "data": {
      "text/html": [
       "<div>\n",
       "<style scoped>\n",
       "    .dataframe tbody tr th:only-of-type {\n",
       "        vertical-align: middle;\n",
       "    }\n",
       "\n",
       "    .dataframe tbody tr th {\n",
       "        vertical-align: top;\n",
       "    }\n",
       "\n",
       "    .dataframe thead th {\n",
       "        text-align: right;\n",
       "    }\n",
       "</style>\n",
       "<table border=\"1\" class=\"dataframe\">\n",
       "  <thead>\n",
       "    <tr style=\"text-align: right;\">\n",
       "      <th></th>\n",
       "      <th>ID</th>\n",
       "      <th>Tweet</th>\n",
       "      <th>Labels</th>\n",
       "      <th>Compound</th>\n",
       "      <th>Sentiment</th>\n",
       "      <th>Tool</th>\n",
       "    </tr>\n",
       "  </thead>\n",
       "  <tbody>\n",
       "    <tr>\n",
       "      <th>0</th>\n",
       "      <td>1</td>\n",
       "      <td>no joke i will hop on a plane rn well after co...</td>\n",
       "      <td>0 10</td>\n",
       "      <td>0.800000</td>\n",
       "      <td>strongly_positive</td>\n",
       "      <td>TextBlob</td>\n",
       "    </tr>\n",
       "    <tr>\n",
       "      <th>1</th>\n",
       "      <td>2</td>\n",
       "      <td>banmediahouse whose is responsible for spreadi...</td>\n",
       "      <td>6</td>\n",
       "      <td>-0.150000</td>\n",
       "      <td>weakly_negative</td>\n",
       "      <td>TextBlob</td>\n",
       "    </tr>\n",
       "    <tr>\n",
       "      <th>2</th>\n",
       "      <td>3</td>\n",
       "      <td>im waiting for someone to say to me that all t...</td>\n",
       "      <td>3 4</td>\n",
       "      <td>0.000000</td>\n",
       "      <td>neutral</td>\n",
       "      <td>TextBlob</td>\n",
       "    </tr>\n",
       "    <tr>\n",
       "      <th>3</th>\n",
       "      <td>4</td>\n",
       "      <td>he is a liar proven day night time again lies ...</td>\n",
       "      <td>6</td>\n",
       "      <td>0.000000</td>\n",
       "      <td>neutral</td>\n",
       "      <td>TextBlob</td>\n",
       "    </tr>\n",
       "    <tr>\n",
       "      <th>4</th>\n",
       "      <td>5</td>\n",
       "      <td>new us coronavirus death toll reaches 4000 aft...</td>\n",
       "      <td>8</td>\n",
       "      <td>0.124242</td>\n",
       "      <td>weakly_positive</td>\n",
       "      <td>TextBlob</td>\n",
       "    </tr>\n",
       "  </tbody>\n",
       "</table>\n",
       "</div>"
      ],
      "text/plain": [
       "   ID                                              Tweet Labels  Compound  \\\n",
       "0   1  no joke i will hop on a plane rn well after co...   0 10  0.800000   \n",
       "1   2  banmediahouse whose is responsible for spreadi...      6 -0.150000   \n",
       "2   3  im waiting for someone to say to me that all t...    3 4  0.000000   \n",
       "3   4  he is a liar proven day night time again lies ...      6  0.000000   \n",
       "4   5  new us coronavirus death toll reaches 4000 aft...      8  0.124242   \n",
       "\n",
       "           Sentiment      Tool  \n",
       "0  strongly_positive  TextBlob  \n",
       "1    weakly_negative  TextBlob  \n",
       "2            neutral  TextBlob  \n",
       "3            neutral  TextBlob  \n",
       "4    weakly_positive  TextBlob  "
      ]
     },
     "execution_count": 46,
     "metadata": {},
     "output_type": "execute_result"
    }
   ],
   "source": [
    "data_TextBlob.head()"
   ]
  },
  {
   "cell_type": "code",
   "execution_count": 47,
   "id": "003a5252",
   "metadata": {},
   "outputs": [
    {
     "data": {
      "text/plain": [
       "neutral              2627\n",
       "weakly_positive      1901\n",
       "weakly_negative      1185\n",
       "positive              826\n",
       "negative              525\n",
       "strongly_positive     215\n",
       "strongly_negative     189\n",
       "Name: Sentiment, dtype: int64"
      ]
     },
     "execution_count": 47,
     "metadata": {},
     "output_type": "execute_result"
    }
   ],
   "source": [
    "# Sentiment informations with TextBlob\n",
    "data_TextBlob['Sentiment']\n",
    "values = data_TextBlob['Sentiment'].value_counts()\n",
    "values"
   ]
  },
  {
   "cell_type": "code",
   "execution_count": 48,
   "id": "e4b9f3de",
   "metadata": {},
   "outputs": [],
   "source": [
    "# Return with a Dictionary with the selected dataframe sentiment labels count\n",
    "# Note: The None sentiment labels also goes to the neutral section\n",
    "def tool_sentiment_results(dataframe_sentiment_column):\n",
    "  sentiment_result = {'neutral': 0, \n",
    "                      'strongly_negative': 0,  \n",
    "                      'negative': 0,\n",
    "                      'weakly_negative': 0,\n",
    "                      'weakly_positive': 0,\n",
    "                      'positive': 0,\n",
    "                      'strongly_positive': 0 }\n",
    "\n",
    "  for value in dataframe_sentiment_column:\n",
    "    if value in sentiment_result:\n",
    "      if value == 'strongly_negative':\n",
    "        sentiment_result['strongly_negative'] += 1\n",
    "      elif value == 'negative':\n",
    "        sentiment_result['negative'] += 1\n",
    "      elif value == 'weakly_negative':\n",
    "        sentiment_result['weakly_negative'] += 1\n",
    "      elif value == 'neutral':\n",
    "        sentiment_result['neutral'] += 1\n",
    "      elif value == 'weakly_positive':\n",
    "        sentiment_result['weakly_positive'] += 1\n",
    "      elif value == 'positive':\n",
    "        sentiment_result['positive'] += 1\n",
    "      elif value == 'strongly_positive':\n",
    "        sentiment_result['strongly_positive'] += 1\n",
    "\n",
    "  # Add the None values to the neutral as well\n",
    "  sentiment_result['neutral'] += dataframe_sentiment_column.isna().sum()\n",
    "\n",
    "  return sentiment_result"
   ]
  },
  {
   "cell_type": "code",
   "execution_count": 49,
   "id": "d8625da2",
   "metadata": {},
   "outputs": [],
   "source": [
    "# Calculate the percentage of the different sentiment categories/labels ( - for example 30% weakly_positive with this tool )\n",
    "def percentage(part, whole):\n",
    "  temp = 100 * float(part) / float(whole)\n",
    "  return format(temp, '.2f')"
   ]
  },
  {
   "cell_type": "code",
   "execution_count": 50,
   "id": "0b290085",
   "metadata": {},
   "outputs": [],
   "source": [
    "# Visualize the sentiment percentages on a chart \n",
    "def visualization(positive, wpositive, spositive, negative, wnegative, snegative, neutral, keyword, limit, tool):\n",
    "    labels = ['Positive [' + str(positive) + '%]', 'Weakly Positive [' + str(wpositive) + '%]',\n",
    "              'Strongly Positive [' + str(spositive) + '%]', 'Neutral [' + str(neutral) + '%]',\n",
    "              'Negative [' + str(negative) + '%]', 'Weakly Negative [' + str(wnegative) + '%]',\n",
    "              'Strongly Negative [' + str(snegative) + '%]']\n",
    "    sizes = [positive, wpositive, spositive, neutral, negative, wnegative, snegative]\n",
    "    colors = ['yellowgreen', 'lightgreen', 'darkgreen', 'blue', 'red', 'gold', 'darkred']\n",
    "    patches, texts = plt.pie(sizes, colors=colors, startangle=90)\n",
    "    plt.legend(patches, labels, loc=\"best\")\n",
    "    plt.title('How people are reacting on ' + keyword + ' by analyzing ' + str(limit) + ' Tweets with ' + tool)\n",
    "    plt.axis('equal')\n",
    "    plt.tight_layout()\n",
    "    plt.show()"
   ]
  },
  {
   "cell_type": "code",
   "execution_count": 51,
   "id": "5ac81548",
   "metadata": {},
   "outputs": [],
   "source": [
    "# Visualize the sentiment percentages of the selected tool and keyword information using the sentiment labels \n",
    "#from the tools dataframe\n",
    "def sentiment_result_label_category_counts_visualisazion(dataframe, tool_name, keyword):\n",
    "  datraframe_size = len(dataframe)\n",
    "  dataframe_sentiment_labels_result = tool_sentiment_results(dataframe_sentiment_column=dataframe['Sentiment'])\n",
    "\n",
    "  pos_percent       = percentage(part=dataframe_sentiment_labels_result['positive'], whole=datraframe_size)\n",
    "  wpositive_percent = percentage(part=dataframe_sentiment_labels_result['weakly_positive'], whole=datraframe_size)\n",
    "  spositive_percent = percentage(part=dataframe_sentiment_labels_result['strongly_positive'], whole=datraframe_size)\n",
    "  negative_percent  = percentage(part=dataframe_sentiment_labels_result['negative'], whole=datraframe_size)\n",
    "  wnegative_percent = percentage(part=dataframe_sentiment_labels_result['weakly_negative'], whole=datraframe_size)\n",
    "  snegative_percent = percentage(part=dataframe_sentiment_labels_result['strongly_negative'], whole=datraframe_size)\n",
    "  neutral_percent   = percentage(part=dataframe_sentiment_labels_result['neutral'], whole=datraframe_size)\n",
    "\n",
    "  visualization(positive=pos_percent, wpositive=wpositive_percent, spositive=spositive_percent, negative=negative_percent, \n",
    "                wnegative=wnegative_percent, snegative=snegative_percent, neutral=neutral_percent, keyword=keyword, \n",
    "                limit=datraframe_size, tool=tool_name)\n"
   ]
  },
  {
   "cell_type": "code",
   "execution_count": 52,
   "id": "ed08e2a8",
   "metadata": {},
   "outputs": [
    {
     "data": {
      "image/png": "[encoded data removed]",
      "text/plain": [
       "<Figure size 432x288 with 1 Axes>"
      ]
     },
     "metadata": {},
     "output_type": "display_data"
    }
   ],
   "source": [
    "sentiment_result_label_category_counts_visualisazion(dataframe=data_TextBlob, tool_name='TextBlob', keyword='covid')"
   ]
  },
  {
   "cell_type": "markdown",
   "id": "da6aa4f7",
   "metadata": {},
   "source": [
    "### NLTK Sentiment Analysis"
   ]
  },
  {
   "cell_type": "code",
   "execution_count": 53,
   "id": "9d4d0c74",
   "metadata": {},
   "outputs": [],
   "source": [
    "import nltk"
   ]
  },
  {
   "cell_type": "code",
   "execution_count": 54,
   "id": "31984441",
   "metadata": {},
   "outputs": [],
   "source": [
    "data_NLTK = data.copy()"
   ]
  },
  {
   "cell_type": "code",
   "execution_count": 56,
   "id": "195c57c1",
   "metadata": {},
   "outputs": [],
   "source": [
    "BUFFER_SIZE = 10000\n",
    "BATCH_SIZE = 64"
   ]
  },
  {
   "cell_type": "code",
   "execution_count": 57,
   "id": "e7e8482b",
   "metadata": {},
   "outputs": [],
   "source": [
    "# Test and tran datasets using the tensorflow datasets possibility\n",
    "#dataSet, info = data\n",
    "train_dataSet, test_dataSet = pd1, pd2\n",
    "#encoder = info.features['Tweet'].encoder"
   ]
  },
  {
   "cell_type": "code",
   "execution_count": 58,
   "id": "f554b523",
   "metadata": {},
   "outputs": [],
   "source": [
    "sia=SentimentIntensityAnalyzer()\n",
    "\n",
    "# Sentiment 'polarity' calculation for tweets\n",
    "data_NLTK['Compound'] = data_NLTK['Tweet'].apply(lambda tweet: sia.polarity_scores(tweet)['compound'])"
   ]
  },
  {
   "cell_type": "code",
   "execution_count": 59,
   "id": "c428a7d2",
   "metadata": {},
   "outputs": [],
   "source": [
    "# Label the tweets by the 'Compound' - by Sentiment Polarity values\n",
    "# ( In NLTK the scale moves between -1 and 1 )\n",
    "def sentiment_declareation(sentiment_value):\n",
    "  if sentiment_value == 0:\n",
    "      return 'neutral'\n",
    "  elif 0 < sentiment_value <= 0.3:\n",
    "      return 'weakly_positive'\n",
    "  elif 0.3 < sentiment_value <= 0.6:\n",
    "      return 'positive'\n",
    "  elif 0.6 < sentiment_value <= 1:\n",
    "      return 'strongly_positive'\n",
    "  elif -0.3 < sentiment_value <= 0:\n",
    "      return 'weakly_negative'\n",
    "  elif -0.6 < sentiment_value <= -0.3:\n",
    "      return 'negative'\n",
    "  elif -1 < sentiment_value <= -0.6:\n",
    "      return 'strongly_negative'"
   ]
  },
  {
   "cell_type": "code",
   "execution_count": 60,
   "id": "2b479b36",
   "metadata": {},
   "outputs": [],
   "source": [
    "# Sentiment labels for tweets after the 'Compound'\n",
    "data_NLTK['Sentiment'] = data_NLTK['Compound'].apply(lambda value: sentiment_declareation(value))\n",
    "\n",
    "# Set the Sentiment analysis tool name\n",
    "data_NLTK['Tool'] = 'NLTK'"
   ]
  },
  {
   "cell_type": "code",
   "execution_count": 61,
   "id": "13679427",
   "metadata": {},
   "outputs": [
    {
     "data": {
      "text/html": [
       "<div>\n",
       "<style scoped>\n",
       "    .dataframe tbody tr th:only-of-type {\n",
       "        vertical-align: middle;\n",
       "    }\n",
       "\n",
       "    .dataframe tbody tr th {\n",
       "        vertical-align: top;\n",
       "    }\n",
       "\n",
       "    .dataframe thead th {\n",
       "        text-align: right;\n",
       "    }\n",
       "</style>\n",
       "<table border=\"1\" class=\"dataframe\">\n",
       "  <thead>\n",
       "    <tr style=\"text-align: right;\">\n",
       "      <th></th>\n",
       "      <th>ID</th>\n",
       "      <th>Tweet</th>\n",
       "      <th>Labels</th>\n",
       "      <th>Compound</th>\n",
       "      <th>Sentiment</th>\n",
       "      <th>Tool</th>\n",
       "    </tr>\n",
       "  </thead>\n",
       "  <tbody>\n",
       "    <tr>\n",
       "      <th>0</th>\n",
       "      <td>1</td>\n",
       "      <td>no joke i will hop on a plane rn well after co...</td>\n",
       "      <td>0 10</td>\n",
       "      <td>0.5994</td>\n",
       "      <td>positive</td>\n",
       "      <td>NLTK</td>\n",
       "    </tr>\n",
       "    <tr>\n",
       "      <th>1</th>\n",
       "      <td>2</td>\n",
       "      <td>banmediahouse whose is responsible for spreadi...</td>\n",
       "      <td>6</td>\n",
       "      <td>-0.2023</td>\n",
       "      <td>weakly_negative</td>\n",
       "      <td>NLTK</td>\n",
       "    </tr>\n",
       "    <tr>\n",
       "      <th>2</th>\n",
       "      <td>3</td>\n",
       "      <td>im waiting for someone to say to me that all t...</td>\n",
       "      <td>3 4</td>\n",
       "      <td>-0.2500</td>\n",
       "      <td>weakly_negative</td>\n",
       "      <td>NLTK</td>\n",
       "    </tr>\n",
       "    <tr>\n",
       "      <th>3</th>\n",
       "      <td>4</td>\n",
       "      <td>he is a liar proven day night time again lies ...</td>\n",
       "      <td>6</td>\n",
       "      <td>-0.5859</td>\n",
       "      <td>negative</td>\n",
       "      <td>NLTK</td>\n",
       "    </tr>\n",
       "    <tr>\n",
       "      <th>4</th>\n",
       "      <td>5</td>\n",
       "      <td>new us coronavirus death toll reaches 4000 aft...</td>\n",
       "      <td>8</td>\n",
       "      <td>-0.5719</td>\n",
       "      <td>negative</td>\n",
       "      <td>NLTK</td>\n",
       "    </tr>\n",
       "  </tbody>\n",
       "</table>\n",
       "</div>"
      ],
      "text/plain": [
       "   ID                                              Tweet Labels  Compound  \\\n",
       "0   1  no joke i will hop on a plane rn well after co...   0 10    0.5994   \n",
       "1   2  banmediahouse whose is responsible for spreadi...      6   -0.2023   \n",
       "2   3  im waiting for someone to say to me that all t...    3 4   -0.2500   \n",
       "3   4  he is a liar proven day night time again lies ...      6   -0.5859   \n",
       "4   5  new us coronavirus death toll reaches 4000 aft...      8   -0.5719   \n",
       "\n",
       "         Sentiment  Tool  \n",
       "0         positive  NLTK  \n",
       "1  weakly_negative  NLTK  \n",
       "2  weakly_negative  NLTK  \n",
       "3         negative  NLTK  \n",
       "4         negative  NLTK  "
      ]
     },
     "execution_count": 61,
     "metadata": {},
     "output_type": "execute_result"
    }
   ],
   "source": [
    "data_NLTK.head()"
   ]
  },
  {
   "cell_type": "code",
   "execution_count": 74,
   "id": "8263ff95",
   "metadata": {},
   "outputs": [
    {
     "data": {
      "text/plain": [
       "neutral              1414\n",
       "negative             1331\n",
       "positive             1229\n",
       "strongly_negative    1094\n",
       "weakly_negative       930\n",
       "weakly_positive       798\n",
       "strongly_positive     704\n",
       "Name: Sentiment, dtype: int64"
      ]
     },
     "execution_count": 74,
     "metadata": {},
     "output_type": "execute_result"
    }
   ],
   "source": [
    "# Sentiment informations with NLTK - vader lexicon\n",
    "values = data_NLTK['Sentiment'].value_counts()\n",
    "values"
   ]
  },
  {
   "cell_type": "code",
   "execution_count": 75,
   "id": "c6029147",
   "metadata": {},
   "outputs": [
    {
     "data": {
      "text/plain": [
       "['neutral',\n",
       " 'negative',\n",
       " 'positive',\n",
       " 'strongly_negative',\n",
       " 'weakly_negative',\n",
       " 'weakly_positive',\n",
       " 'strongly_positive']"
      ]
     },
     "execution_count": 75,
     "metadata": {},
     "output_type": "execute_result"
    }
   ],
   "source": [
    "class_names = list(values.keys())\n",
    "class_names"
   ]
  },
  {
   "cell_type": "code",
   "execution_count": 62,
   "id": "055364e1",
   "metadata": {},
   "outputs": [
    {
     "data": {
      "image/png": "[encoded data removed]",
      "text/plain": [
       "<Figure size 432x288 with 1 Axes>"
      ]
     },
     "metadata": {},
     "output_type": "display_data"
    }
   ],
   "source": [
    "sentiment_result_label_category_counts_visualisazion(dataframe=data_NLTK, tool_name='NLTK - Vader Lexicon', keyword='covid')"
   ]
  }
 ],
 "metadata": {
  "kernelspec": {
   "display_name": "Python 3 (ipykernel)",
   "language": "python",
   "name": "python3"
  },
  "language_info": {
   "codemirror_mode": {
    "name": "ipython",
    "version": 3
   },
   "file_extension": ".py",
   "mimetype": "text/x-python",
   "name": "python",
   "nbconvert_exporter": "python",
   "pygments_lexer": "ipython3",
   "version": "3.9.7"
  }
 },
 "nbformat": 4,
 "nbformat_minor": 5
}
